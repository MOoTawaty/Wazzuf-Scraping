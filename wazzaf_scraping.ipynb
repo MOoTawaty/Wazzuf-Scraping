{
 "cells": [
  {
   "cell_type": "code",
   "execution_count": 90,
   "id": "732bb37d",
   "metadata": {},
   "outputs": [],
   "source": [
    "import requests, csv\n",
    "from bs4 import BeautifulSoup\n",
    "from itertools import zip_longest"
   ]
  },
  {
   "cell_type": "code",
   "execution_count": 91,
   "id": "eee2b740",
   "metadata": {},
   "outputs": [
    {
     "name": "stdout",
     "output_type": "stream",
     "text": [
      "<class 'bytes'>\n"
     ]
    }
   ],
   "source": [
    "url = \"https://wuzzuf.net/search/jobs?start=0\"\n",
    "html_content = requests.get(url)\n",
    "document = BeautifulSoup(html_content.text, 'html.parser')\n",
    "print (type(html_content.content))"
   ]
  },
  {
   "cell_type": "code",
   "execution_count": 145,
   "id": "2a9e7a6f",
   "metadata": {},
   "outputs": [],
   "source": [
    "job_titel = document.find_all(\"h2\", {\"class\":\"css-m604qf\"})\n",
    "company_name = document.find_all(\"a\", {\"class\":\"css-17s97q8\"})\n",
    "location = document.find_all(\"span\", {\"class\":\"css-5wys0k\"})\n",
    "job_type = document.find_all(\"a\", {\"class\":\"css-n2jc4m\"})\n",
    "job_skill = document.find_all(\"div\", {\"class\":\"css-y4udm8\"})\n",
    "\n"
   ]
  },
  {
   "cell_type": "code",
   "execution_count": 151,
   "id": "bd279f79",
   "metadata": {},
   "outputs": [],
   "source": [
    "job_titels = []\n",
    "companies_name = []\n",
    "locations = []\n",
    "job_types = []\n",
    "job_skills = []"
   ]
  },
  {
   "cell_type": "code",
   "execution_count": 152,
   "id": "abdb2802",
   "metadata": {},
   "outputs": [],
   "source": [
    "for job in range(len(job_titel)):\n",
    "    job_titels.append(job_titel[job].text)\n",
    "    companies_name.append(company_name[job].text)\n",
    "    locations.append(location[job].text)\n",
    "    job_types.append(job_type[job].text)\n",
    "    job_skills.append(job_skill[job].text)"
   ]
  },
  {
   "cell_type": "code",
   "execution_count": 153,
   "id": "12c786c5",
   "metadata": {},
   "outputs": [],
   "source": [
    "content = [job_titels, companies_name, locations, job_types, job_skills]\n",
    "exported = zip_longest(*content)"
   ]
  },
  {
   "cell_type": "code",
   "execution_count": 154,
   "id": "7a6b7027",
   "metadata": {},
   "outputs": [
    {
     "name": "stdout",
     "output_type": "stream",
     "text": [
      "<itertools.zip_longest object at 0x0000020684823F10>\n"
     ]
    }
   ],
   "source": [
    "print(exported)"
   ]
  },
  {
   "cell_type": "code",
   "execution_count": 155,
   "id": "d023a64a",
   "metadata": {},
   "outputs": [],
   "source": [
    "with open(\"D:\\Programing _ Tasks\\scraping\\wazzaf_data.csv\", \"w\", encoding='utf-8-sig', newline='') as writer:\n",
    "    filewriter = csv.writer(writer)\n",
    "    filewriter.writerow([\"job title\", \"company\", \"location\", \"job type\", \"job skills\"])\n",
    "    filewriter.writerows(exported)"
   ]
  },
  {
   "cell_type": "code",
   "execution_count": null,
   "id": "ad311ef2",
   "metadata": {},
   "outputs": [],
   "source": []
  },
  {
   "cell_type": "code",
   "execution_count": null,
   "id": "af9b99cc",
   "metadata": {},
   "outputs": [],
   "source": []
  }
 ],
 "metadata": {
  "kernelspec": {
   "display_name": "Python 3 (ipykernel)",
   "language": "python",
   "name": "python3"
  },
  "language_info": {
   "codemirror_mode": {
    "name": "ipython",
    "version": 3
   },
   "file_extension": ".py",
   "mimetype": "text/x-python",
   "name": "python",
   "nbconvert_exporter": "python",
   "pygments_lexer": "ipython3",
   "version": "3.10.1"
  }
 },
 "nbformat": 4,
 "nbformat_minor": 5
}

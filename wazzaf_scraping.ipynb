{
 "cells": [
  {
   "cell_type": "code",
   "execution_count": 47,
   "id": "0671c6bf",
   "metadata": {},
   "outputs": [],
   "source": [
    "import requests\n",
    "from bs4 import BeautifulSoup"
   ]
  },
  {
   "cell_type": "code",
   "execution_count": 53,
   "id": "d68dc4c7",
   "metadata": {},
   "outputs": [
    {
     "name": "stdout",
     "output_type": "stream",
     "text": [
      "<class 'bytes'>\n"
     ]
    }
   ],
   "source": [
    "url = \"https://wuzzuf.net/search/jobs?start=0\"\n",
    "html_content = requests.get(url)\n",
    "document = BeautifulSoup(html_content.text, 'html.parser')\n",
    "print (type(html_content.content))"
   ]
  },
  {
   "cell_type": "code",
   "execution_count": 66,
   "id": "31dbaea8",
   "metadata": {},
   "outputs": [],
   "source": [
    "job_titel = document.find_all(\"h2\", {\"class\":\"css-m604qf\"})\n",
    "company_name = document.find_all(\"a\", {\"class\":\"css-17s97q8\"})\n",
    "location = document.find_all(\"span\", {\"class\":\"css-5wys0k\"})\n",
    "job_skill = document.find_all(\"div\", {\"class\":\"css-y4udm8\"})\n",
    "\n"
   ]
  },
  {
   "cell_type": "code",
   "execution_count": 67,
   "id": "db2f0a08",
   "metadata": {},
   "outputs": [],
   "source": [
    "job_titels = []\n",
    "companies_name = []\n",
    "locations = []\n",
    "job_skills = []"
   ]
  },
  {
   "cell_type": "code",
   "execution_count": 69,
   "id": "182b53b4",
   "metadata": {},
   "outputs": [
    {
     "name": "stdout",
     "output_type": "stream",
     "text": [
      "['Full TimeExperienced · 3 - 5 Yrs of Exp · IT/Software Development · Analyst/Research · Engineering - Telecom/Technology · Analyst · Business Analysis · Computer Science · Software Development · Product Owner · Prototyping · SDLC', 'Full TimeExperienced · 1 - 3 Yrs of Exp · Engineering - Other · Color Matching · Graphic Design · Art Design · Fine Arts · Arts · Design · graphics', 'Full TimeExperienced · 2 - 5 Yrs of Exp · Human Resources · IT/Software Development · Human Resources (HR) · Software · Technical Recruitment', 'Full TimeExperienced · 1 - 5 Yrs of Exp · Quality · Quality Control · Quality Assurance · quality', 'Full TimeExperienced · 3 - 10 Yrs of Exp · Sales/Retail · Sales · Sales Target', 'Full TimeExperienced · 3 - 5 Yrs of Exp · Human Resources · Human Resources (HR) · Recruiting', 'Work From HomeSenior Management · 9 - 10 Yrs of Exp · Administration · Business Development · Human Resources · HR · Human Resources (HR) · Administration · Business Administration · Business Development · Business Analysis', 'Full TimeExperienced · 7 - 12 Yrs of Exp · Engineering - Construction/Civil/Architecture · Civil · Civil Engineering · Engineering', 'Full TimeWork From HomeEntry Level · 1+ Yrs of Exp · Customer Service/Support · Sales/Retail · Telesales representative · Telesales · sales skills · Sales · Customer Service', 'Full TimeExperienced · 5 - 15 Yrs of Exp · Manufacturing/Production · Human Resources (HR) · HR · Product knowledge', 'Full TimeExperienced · 2 - 3 Yrs of Exp · IT/Software Development · Quality · Agile · Automation · ISTQB · Quality Assurance · Quality Control · Software Testing · Testing · Computer Science', 'Full TimeExperienced · 4 - 6 Yrs of Exp · IT/Software Development · Automation · Software Development · Analysis · quality · test automation · Test Cases · Software Engineering · Computer Science', 'Full TimeEntry Level · 1 - 3 Yrs of Exp · IT/Software Development · SAP S4 HANA · SAP · SAP Solman · SAP Fiori · ABAP · HANA · Computer Science · Linux', 'Full TimeEntry Level · 1+ Yrs of Exp · Installation/Maintenance/Repair · IT/Software Development · .Net · ASP.Net · Computer Science · CSS · HTML · Information Technology (IT) · JavaScript · jQuery', 'Part TimeSenior Management · 18 - 20 Yrs of Exp · C-Level Executive/GM/Director · Chariman · Female · C level · Part Time · Business Development']\n"
     ]
    }
   ],
   "source": [
    "for job in range(len(job_titel)):\n",
    "    job_titels.append(job_titel[job].text)\n",
    "    companies_name.append(company_name[job].text)\n",
    "    locations.append(location[job].text)\n",
    "    job_skills.append(job_skill[job].text)\n",
    "print(job_skills)"
   ]
  },
  {
   "cell_type": "code",
   "execution_count": null,
   "id": "ff54b3e2",
   "metadata": {},
   "outputs": [],
   "source": []
  }
 ],
 "metadata": {
  "kernelspec": {
   "display_name": "Python 3 (ipykernel)",
   "language": "python",
   "name": "python3"
  },
  "language_info": {
   "codemirror_mode": {
    "name": "ipython",
    "version": 3
   },
   "file_extension": ".py",
   "mimetype": "text/x-python",
   "name": "python",
   "nbconvert_exporter": "python",
   "pygments_lexer": "ipython3",
   "version": "3.10.1"
  }
 },
 "nbformat": 4,
 "nbformat_minor": 5
}

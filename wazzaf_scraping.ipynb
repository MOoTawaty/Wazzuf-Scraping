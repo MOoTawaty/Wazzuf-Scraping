{
 "cells": [
  {
   "cell_type": "code",
   "execution_count": 499,
   "id": "dff4ded0",
   "metadata": {},
   "outputs": [],
   "source": [
    "import requests, csv\n",
    "from bs4 import BeautifulSoup\n",
    "from itertools import zip_longest"
   ]
  },
  {
   "cell_type": "code",
   "execution_count": 506,
   "id": "2e92d412",
   "metadata": {},
   "outputs": [],
   "source": [
    "page_num = 0"
   ]
  },
  {
   "cell_type": "code",
   "execution_count": 507,
   "id": "33c16474",
   "metadata": {},
   "outputs": [],
   "source": [
    "job_titels = []\n",
    "companies_name = []\n",
    "locations = []\n",
    "job_types = []\n",
    "job_skills = []\n",
    "links = []\n",
    "date = []"
   ]
  },
  {
   "cell_type": "code",
   "execution_count": 502,
   "id": "52c98528",
   "metadata": {},
   "outputs": [],
   "source": [
    "limit = 7948//15"
   ]
  },
  {
   "cell_type": "code",
   "execution_count": 508,
   "id": "03f63757",
   "metadata": {},
   "outputs": [],
   "source": [
    "headers = {\n",
    "    \"User-Agent\": \"Mozilla/5.0 (Windows NT 10.0; Win64; x64; rv:66.0) Gecko/20100101 Firefox/66.0\",\n",
    "    \"Accept-Encoding\": \"*\",\n",
    "    \"Connection\": \"keep-alive\"\n",
    "}"
   ]
  },
  {
   "cell_type": "markdown",
   "id": "6859de6c",
   "metadata": {},
   "source": [
    "# Scraoing the web pages based on urls"
   ]
  },
  {
   "cell_type": "code",
   "execution_count": 513,
   "id": "ccaae2b8",
   "metadata": {},
   "outputs": [
    {
     "name": "stdout",
     "output_type": "stream",
     "text": [
      "Read timed out\n"
     ]
    }
   ],
   "source": [
    "try:\n",
    "    while page_num <= limit:\n",
    "        url = f\"https://wuzzuf.net/search/jobs?start={page_num}\"\n",
    "        html_content = requests.get(url, headers=headers, )\n",
    "        document = BeautifulSoup(html_content.text, 'html.parser')\n",
    "\n",
    "        job_titel = document.find_all(\"h2\", {\"class\":\"css-m604qf\"})\n",
    "        company_name = document.find_all(\"a\", {\"class\":\"css-17s97q8\"})\n",
    "        location = document.find_all(\"span\", {\"class\":\"css-5wys0k\"})\n",
    "        job_skill = document.find_all(\"div\", {\"class\":\"css-y4udm8\"})\n",
    "        posted_new = document.find_all(\"div\", {\"class\":\"css-4c4ojb\"})\n",
    "        posted_old = document.find_all(\"div\", {\"class\":\"css-do6t5g\"})\n",
    "\n",
    "        posted = [*posted_new, *posted_old]\n",
    "\n",
    "        for job in range(len(job_titel)):\n",
    "            job_titels.append(job_titel[job].text)\n",
    "            companies_name.append(company_name[job].text.replace(\"-\", \"\").strip())\n",
    "            locations.append(location[job].text)\n",
    "            temp = job_skill[job].find_all(\"div\")\n",
    "            job_types.append(temp[0].text)\n",
    "            job_skills.append(temp[1].text)\n",
    "            links.append(\"https://wuzzuf.net\" + job_titel[job].find(\"a\").attrs['href'])\n",
    "            date.append(posted[job].text)\n",
    "\n",
    "        page_num += 1\n",
    "except:\n",
    "    print(\"An error occurred\")"
   ]
  },
  {
   "cell_type": "code",
   "execution_count": 426,
   "id": "64e19929",
   "metadata": {},
   "outputs": [
    {
     "data": {
      "text/plain": [
       "'Experienced · 1 - 10 Yrs of Exp · Hospitality/Hotels/Food Services · Customer Service · Customer Support · Hospitality · Hotels'"
      ]
     },
     "execution_count": 426,
     "metadata": {},
     "output_type": "execute_result"
    }
   ],
   "source": [
    "ss = job_skill[0].find_all(\"div\")\n",
    "ss[1].text\n"
   ]
  },
  {
   "cell_type": "code",
   "execution_count": 427,
   "id": "7ff26256",
   "metadata": {},
   "outputs": [],
   "source": []
  },
  {
   "cell_type": "code",
   "execution_count": 402,
   "id": "e26af84b",
   "metadata": {},
   "outputs": [],
   "source": [
    "# url = 'https://wuzzuf.net/jobs/p/pnDLjO0BraIL-Guest-Experience-Associate-Brassbell-Cairo-Egypt?o=1&l=sp&t=sj&a=search-v3'\n",
    "# # headers = {\n",
    "# #     'User-Agent': 'Mozilla/5.0 (Windows NT 10.0; Win64; x64) AppleWebKit/537.36 (KHTML, like Gecko) Chrome/105.0.0.0 Safari/537.36'\n",
    "# # }\n",
    "\n",
    "# headers = {\n",
    "#     \"User-Agent\": \"Mozilla/5.0 (Windows NT 10.0; Win64; x64; rv:66.0) Gecko/20100101 Firefox/66.0\",\n",
    "#     \"Accept-Encoding\": \"*\",\n",
    "#     \"Connection\": \"keep-alive\"\n",
    "# }\n",
    "\n",
    "# soup = BeautifulSoup(requests.get(url, headers=headers, timeout=150).text, 'html.parser')\n",
    "# salary = soup.find_all(\"span\", {\"class\":\"css-4xky9y\"})\n",
    "# # salary = soup.select_one('script').text.split('Wuzzuf.initialStoreState = ')[1].split('Wuzzuf.serverRenderedURL = ')[0].rsplit(';', 1)[0]  "
   ]
  },
  {
   "cell_type": "markdown",
   "id": "167be34f",
   "metadata": {},
   "source": [
    "# Writting the scraped data to a csv file"
   ]
  },
  {
   "cell_type": "code",
   "execution_count": 516,
   "id": "5dde8a4b",
   "metadata": {},
   "outputs": [],
   "source": [
    "content = [job_titels, companies_name, locations, job_types, date, job_skills]\n",
    "exported = zip_longest(*content)"
   ]
  },
  {
   "cell_type": "code",
   "execution_count": 517,
   "id": "6a0c0fff",
   "metadata": {},
   "outputs": [
    {
     "name": "stdout",
     "output_type": "stream",
     "text": [
      "<itertools.zip_longest object at 0x0000020680266A70>\n"
     ]
    }
   ],
   "source": [
    "print(exported)"
   ]
  },
  {
   "cell_type": "code",
   "execution_count": 518,
   "id": "6fee0073",
   "metadata": {},
   "outputs": [],
   "source": [
    "with open(\"D:\\Programing _ Tasks\\scraping\\wazzaf_data.csv\", \"w\", encoding='utf-8-sig', newline='') as writer:\n",
    "    filewriter = csv.writer(writer)\n",
    "    filewriter.writerow([\"job title\", \"company\", \"location\", \"job type\", \"date\", \"job skills\"])\n",
    "    filewriter.writerows(exported)"
   ]
  },
  {
   "cell_type": "code",
   "execution_count": null,
   "id": "1da848cf",
   "metadata": {},
   "outputs": [],
   "source": []
  },
  {
   "cell_type": "code",
   "execution_count": null,
   "id": "c54ecd06",
   "metadata": {},
   "outputs": [],
   "source": []
  }
 ],
 "metadata": {
  "kernelspec": {
   "display_name": "Python 3 (ipykernel)",
   "language": "python",
   "name": "python3"
  },
  "language_info": {
   "codemirror_mode": {
    "name": "ipython",
    "version": 3
   },
   "file_extension": ".py",
   "mimetype": "text/x-python",
   "name": "python",
   "nbconvert_exporter": "python",
   "pygments_lexer": "ipython3",
   "version": "3.10.1"
  }
 },
 "nbformat": 4,
 "nbformat_minor": 5
}
